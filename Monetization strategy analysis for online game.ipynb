{
 "cells": [
  {
   "cell_type": "markdown",
   "metadata": {},
   "source": [
    "Content:\n",
    " - [Part 0. Background](#Part-0.-Background)\n",
    " - [Part 1. Data loading and checking](#Part-1.-Data-loading-and-checking)\n",
    " - [Part 2. Exploratory data analysis](#Part-2.-Exploratory-data-analysis)\n",
    "   - [DAU](#Daily-active-users)\n",
    "   - [Retention](#Retention)\n",
    "   - [Time gap between first and second event](#Average-time-between-first-and-second-event?)\n",
    "   - [Users, that left after first action](#Amount-of-users,-who-left-after-1st-building?)\n",
    " - [Part 3. Statistical analysis](#Part-3.-Statistical-analysis)\n",
    " - [Conclusion and general recommendations](#Conclusion-and-general-recommendations:)"
   ]
  },
  {
   "cell_type": "markdown",
   "metadata": {},
   "source": [
    "Link to Dashboard - https://public.tableau.com/profile/philip.artemenkov#!/vizhome/SpaceBrothersreport/Dashboard2"
   ]
  },
  {
   "cell_type": "markdown",
   "metadata": {},
   "source": [
    "Link to Report - https://drive.google.com/file/d/1Xb5-8pUb-7ENbIvfrXF0Mti0mbIp7Hxt/view?usp=sharing"
   ]
  },
  {
   "cell_type": "markdown",
   "metadata": {},
   "source": [
    "# Part 0. Background"
   ]
  },
  {
   "cell_type": "markdown",
   "metadata": {},
   "source": [
    "We have data on events for the mobile game Space Brothers. Players have to create their own space programs and try to colonize the galaxy. <p>\n",
    "The dataset contains data on the first users of the app — the cohort of users who began playing the game between May 4 and 10, inclusive. <p>\n",
    "    The dataset contains data on users in the first stage of the game. To reach the second stage, they need to do one of the following:\n",
    "\n",
    "- Defeat the first boss\n",
    "- Build an orbital satellite-assembly system\n",
    "\n",
    "<b>Research question:</b> What monetization strategy should be used? For now, showing ads on the screen where the user selects the type of objects to be constructed is proposed\n",
    "\n",
    "Additional important info:\n",
    "- Game genre: Strategy\n",
    "- Type of game: Social Multiplayer"
   ]
  },
  {
   "cell_type": "markdown",
   "metadata": {},
   "source": [
    "There are 4 most popular monetization strategies for a F2P mobile games, that can be combined together:\n",
    " - Advertising (most common and used in our game)\n",
    " - In-app purchases (currency, boosters, visuals, etc.)\n",
    " - Subscriptions\n",
    " - \"Paid sister\"\n",
    " \n",
    "Source: https://sweetpricing.com/blog/2016/06/free-to-play-monetization/"
   ]
  },
  {
   "cell_type": "markdown",
   "metadata": {},
   "source": [
    "# Part 1. Data loading and checking"
   ]
  },
  {
   "cell_type": "code",
   "execution_count": 1,
   "metadata": {},
   "outputs": [],
   "source": [
    "import pandas as pd\n",
    "import numpy as np\n",
    "import matplotlib.pyplot as plt\n",
    "import seaborn as sns\n",
    "from scipy import stats as st\n",
    "from statsmodels.stats.proportion import proportions_ztest\n",
    "import math as mth\n",
    "import warnings\n",
    "import itertools\n",
    "warnings.filterwarnings(\"ignore\")\n",
    "plt.style.use('seaborn-whitegrid') \n",
    "sns.set_style('whitegrid')\n",
    "pd.set_option('display.max_colwidth', -1)"
   ]
  },
  {
   "cell_type": "markdown",
   "metadata": {},
   "source": [
    "### 1.1. Users data"
   ]
  },
  {
   "cell_type": "code",
   "execution_count": 2,
   "metadata": {},
   "outputs": [],
   "source": [
    "users_data = pd.read_csv('/datasets/user_source_us.csv')"
   ]
  },
  {
   "cell_type": "code",
   "execution_count": 3,
   "metadata": {},
   "outputs": [
    {
     "data": {
      "text/html": [
       "<div>\n",
       "<style scoped>\n",
       "    .dataframe tbody tr th:only-of-type {\n",
       "        vertical-align: middle;\n",
       "    }\n",
       "\n",
       "    .dataframe tbody tr th {\n",
       "        vertical-align: top;\n",
       "    }\n",
       "\n",
       "    .dataframe thead th {\n",
       "        text-align: right;\n",
       "    }\n",
       "</style>\n",
       "<table border=\"1\" class=\"dataframe\">\n",
       "  <thead>\n",
       "    <tr style=\"text-align: right;\">\n",
       "      <th></th>\n",
       "      <th>user_id</th>\n",
       "      <th>event_date</th>\n",
       "      <th>source</th>\n",
       "    </tr>\n",
       "  </thead>\n",
       "  <tbody>\n",
       "    <tr>\n",
       "      <td>0</td>\n",
       "      <td>0001f83c-c6ac-4621-b7f0-8a28b283ac30</td>\n",
       "      <td>2020-05-06</td>\n",
       "      <td>facebook_ads</td>\n",
       "    </tr>\n",
       "    <tr>\n",
       "      <td>1</td>\n",
       "      <td>00151b4f-ba38-44a8-a650-d7cf130a0105</td>\n",
       "      <td>2020-05-06</td>\n",
       "      <td>google_play_ads</td>\n",
       "    </tr>\n",
       "    <tr>\n",
       "      <td>2</td>\n",
       "      <td>001aaea6-3d14-43f1-8ca8-7f48820f17aa</td>\n",
       "      <td>2020-05-05</td>\n",
       "      <td>youtube_channel_network</td>\n",
       "    </tr>\n",
       "    <tr>\n",
       "      <td>3</td>\n",
       "      <td>001d39dc-366c-4021-9604-6a3b9ff01e25</td>\n",
       "      <td>2020-05-05</td>\n",
       "      <td>instagram_new_adverts</td>\n",
       "    </tr>\n",
       "    <tr>\n",
       "      <td>4</td>\n",
       "      <td>002f508f-67b6-479f-814b-b05f00d4e995</td>\n",
       "      <td>2020-05-05</td>\n",
       "      <td>facebook_ads</td>\n",
       "    </tr>\n",
       "  </tbody>\n",
       "</table>\n",
       "</div>"
      ],
      "text/plain": [
       "                                user_id  event_date                   source\n",
       "0  0001f83c-c6ac-4621-b7f0-8a28b283ac30  2020-05-06  facebook_ads           \n",
       "1  00151b4f-ba38-44a8-a650-d7cf130a0105  2020-05-06  google_play_ads        \n",
       "2  001aaea6-3d14-43f1-8ca8-7f48820f17aa  2020-05-05  youtube_channel_network\n",
       "3  001d39dc-366c-4021-9604-6a3b9ff01e25  2020-05-05  instagram_new_adverts  \n",
       "4  002f508f-67b6-479f-814b-b05f00d4e995  2020-05-05  facebook_ads           "
      ]
     },
     "execution_count": 3,
     "metadata": {},
     "output_type": "execute_result"
    }
   ],
   "source": [
    "users_data.head()"
   ]
  },
  {
   "cell_type": "code",
   "execution_count": 4,
   "metadata": {},
   "outputs": [
    {
     "name": "stdout",
     "output_type": "stream",
     "text": [
      "<class 'pandas.core.frame.DataFrame'>\n",
      "RangeIndex: 13576 entries, 0 to 13575\n",
      "Data columns (total 3 columns):\n",
      "user_id       13576 non-null object\n",
      "event_date    13576 non-null object\n",
      "source        13576 non-null object\n",
      "dtypes: object(3)\n",
      "memory usage: 318.3+ KB\n"
     ]
    }
   ],
   "source": [
    "users_data.info()"
   ]
  },
  {
   "cell_type": "code",
   "execution_count": 5,
   "metadata": {},
   "outputs": [],
   "source": [
    "users_data['event_date'] = users_data['event_date'].astype('datetime64')"
   ]
  },
  {
   "cell_type": "code",
   "execution_count": 6,
   "metadata": {},
   "outputs": [
    {
     "data": {
      "text/html": [
       "<div>\n",
       "<style scoped>\n",
       "    .dataframe tbody tr th:only-of-type {\n",
       "        vertical-align: middle;\n",
       "    }\n",
       "\n",
       "    .dataframe tbody tr th {\n",
       "        vertical-align: top;\n",
       "    }\n",
       "\n",
       "    .dataframe thead th {\n",
       "        text-align: right;\n",
       "    }\n",
       "</style>\n",
       "<table border=\"1\" class=\"dataframe\">\n",
       "  <thead>\n",
       "    <tr style=\"text-align: right;\">\n",
       "      <th></th>\n",
       "      <th>user_id</th>\n",
       "      <th>event_date</th>\n",
       "      <th>source</th>\n",
       "    </tr>\n",
       "  </thead>\n",
       "  <tbody>\n",
       "    <tr>\n",
       "      <td>count</td>\n",
       "      <td>13576</td>\n",
       "      <td>13576</td>\n",
       "      <td>13576</td>\n",
       "    </tr>\n",
       "    <tr>\n",
       "      <td>unique</td>\n",
       "      <td>13576</td>\n",
       "      <td>7</td>\n",
       "      <td>4</td>\n",
       "    </tr>\n",
       "    <tr>\n",
       "      <td>top</td>\n",
       "      <td>6699926a-7a47-4f28-9337-67732a385d72</td>\n",
       "      <td>2020-05-04 00:00:00</td>\n",
       "      <td>google_play_ads</td>\n",
       "    </tr>\n",
       "    <tr>\n",
       "      <td>freq</td>\n",
       "      <td>1</td>\n",
       "      <td>5860</td>\n",
       "      <td>4817</td>\n",
       "    </tr>\n",
       "    <tr>\n",
       "      <td>first</td>\n",
       "      <td>NaN</td>\n",
       "      <td>2020-05-04 00:00:00</td>\n",
       "      <td>NaN</td>\n",
       "    </tr>\n",
       "    <tr>\n",
       "      <td>last</td>\n",
       "      <td>NaN</td>\n",
       "      <td>2020-05-10 00:00:00</td>\n",
       "      <td>NaN</td>\n",
       "    </tr>\n",
       "  </tbody>\n",
       "</table>\n",
       "</div>"
      ],
      "text/plain": [
       "                                     user_id           event_date  \\\n",
       "count   13576                                 13576                 \n",
       "unique  13576                                 7                     \n",
       "top     6699926a-7a47-4f28-9337-67732a385d72  2020-05-04 00:00:00   \n",
       "freq    1                                     5860                  \n",
       "first   NaN                                   2020-05-04 00:00:00   \n",
       "last    NaN                                   2020-05-10 00:00:00   \n",
       "\n",
       "                 source  \n",
       "count   13576            \n",
       "unique  4                \n",
       "top     google_play_ads  \n",
       "freq    4817             \n",
       "first   NaN              \n",
       "last    NaN              "
      ]
     },
     "execution_count": 6,
     "metadata": {},
     "output_type": "execute_result"
    }
   ],
   "source": [
    "users_data.describe()"
   ]
  },
  {
   "cell_type": "code",
   "execution_count": 7,
   "metadata": {},
   "outputs": [
    {
     "data": {
      "text/plain": [
       "0"
      ]
     },
     "execution_count": 7,
     "metadata": {},
     "output_type": "execute_result"
    }
   ],
   "source": [
    "users_data.duplicated().sum()"
   ]
  },
  {
   "cell_type": "code",
   "execution_count": 8,
   "metadata": {},
   "outputs": [
    {
     "data": {
      "image/png": "[encoded data removed]",
      "text/plain": [
       "<Figure size 576x432 with 1 Axes>"
      ]
     },
     "metadata": {},
     "output_type": "display_data"
    }
   ],
   "source": [
    "plt.figure(figsize=(8,6))\n",
    "fig = plt.pie(users_data['source'].value_counts(),autopct='%1.2f%%')\n",
    "plt.title('Users distribution by source', weight='bold', fontsize='14')\n",
    "plt.legend(users_data['source'].value_counts().index,loc='center left', bbox_to_anchor=(1, 0.5));"
   ]
  },
  {
   "cell_type": "code",
   "execution_count": 9,
   "metadata": {},
   "outputs": [
    {
     "data": {
      "image/png": "[encoded data removed]",
      "text/plain": [
       "<Figure size 720x432 with 1 Axes>"
      ]
     },
     "metadata": {},
     "output_type": "display_data"
    }
   ],
   "source": [
    "plt.figure(figsize=(10,6))\n",
    "fig = sns.lineplot(data = users_data['event_date'].value_counts())\n",
    "fig.set_title('Number recruited users by date', weight='bold', fontsize='14')\n",
    "plt.xticks(users_data['event_date'].value_counts().index)#,rotation=90)\n",
    "fig.set_xlabel('Date', fontsize='12')\n",
    "fig.set_ylabel('Number of users', fontsize='12');"
   ]
  },
  {
   "cell_type": "markdown",
   "metadata": {},
   "source": [
    "### Conclusion"
   ]
  },
  {
   "cell_type": "markdown",
   "metadata": {},
   "source": [
    "We have data about 13500 unique users of our game and source of their acquisition. Google Play ad is slightly ahead in terms of recruiting users for our game, Instagram follows"
   ]
  },
  {
   "cell_type": "markdown",
   "metadata": {},
   "source": [
    "### 1.2. Advertisment costs"
   ]
  },
  {
   "cell_type": "code",
   "execution_count": 10,
   "metadata": {},
   "outputs": [],
   "source": [
    "ad_cost = pd.read_csv('/datasets/ad_costs_us.csv')"
   ]
  },
  {
   "cell_type": "code",
   "execution_count": 11,
   "metadata": {},
   "outputs": [
    {
     "data": {
      "text/html": [
       "<div>\n",
       "<style scoped>\n",
       "    .dataframe tbody tr th:only-of-type {\n",
       "        vertical-align: middle;\n",
       "    }\n",
       "\n",
       "    .dataframe tbody tr th {\n",
       "        vertical-align: top;\n",
       "    }\n",
       "\n",
       "    .dataframe thead th {\n",
       "        text-align: right;\n",
       "    }\n",
       "</style>\n",
       "<table border=\"1\" class=\"dataframe\">\n",
       "  <thead>\n",
       "    <tr style=\"text-align: right;\">\n",
       "      <th></th>\n",
       "      <th>source</th>\n",
       "      <th>day</th>\n",
       "      <th>cost</th>\n",
       "    </tr>\n",
       "  </thead>\n",
       "  <tbody>\n",
       "    <tr>\n",
       "      <td>0</td>\n",
       "      <td>facebook_ads</td>\n",
       "      <td>2020-05-03</td>\n",
       "      <td>935.882786</td>\n",
       "    </tr>\n",
       "    <tr>\n",
       "      <td>1</td>\n",
       "      <td>facebook_ads</td>\n",
       "      <td>2020-05-04</td>\n",
       "      <td>548.354480</td>\n",
       "    </tr>\n",
       "    <tr>\n",
       "      <td>2</td>\n",
       "      <td>facebook_ads</td>\n",
       "      <td>2020-05-05</td>\n",
       "      <td>260.185754</td>\n",
       "    </tr>\n",
       "    <tr>\n",
       "      <td>3</td>\n",
       "      <td>facebook_ads</td>\n",
       "      <td>2020-05-06</td>\n",
       "      <td>177.982200</td>\n",
       "    </tr>\n",
       "    <tr>\n",
       "      <td>4</td>\n",
       "      <td>facebook_ads</td>\n",
       "      <td>2020-05-07</td>\n",
       "      <td>111.766796</td>\n",
       "    </tr>\n",
       "  </tbody>\n",
       "</table>\n",
       "</div>"
      ],
      "text/plain": [
       "         source         day        cost\n",
       "0  facebook_ads  2020-05-03  935.882786\n",
       "1  facebook_ads  2020-05-04  548.354480\n",
       "2  facebook_ads  2020-05-05  260.185754\n",
       "3  facebook_ads  2020-05-06  177.982200\n",
       "4  facebook_ads  2020-05-07  111.766796"
      ]
     },
     "execution_count": 11,
     "metadata": {},
     "output_type": "execute_result"
    }
   ],
   "source": [
    "ad_cost.head()"
   ]
  },
  {
   "cell_type": "code",
   "execution_count": 12,
   "metadata": {},
   "outputs": [
    {
     "name": "stdout",
     "output_type": "stream",
     "text": [
      "<class 'pandas.core.frame.DataFrame'>\n",
      "RangeIndex: 28 entries, 0 to 27\n",
      "Data columns (total 3 columns):\n",
      "source    28 non-null object\n",
      "day       28 non-null object\n",
      "cost      28 non-null float64\n",
      "dtypes: float64(1), object(2)\n",
      "memory usage: 800.0+ bytes\n"
     ]
    }
   ],
   "source": [
    "ad_cost.info()"
   ]
  },
  {
   "cell_type": "code",
   "execution_count": 13,
   "metadata": {},
   "outputs": [
    {
     "data": {
      "text/html": [
       "<div>\n",
       "<style scoped>\n",
       "    .dataframe tbody tr th:only-of-type {\n",
       "        vertical-align: middle;\n",
       "    }\n",
       "\n",
       "    .dataframe tbody tr th {\n",
       "        vertical-align: top;\n",
       "    }\n",
       "\n",
       "    .dataframe thead th {\n",
       "        text-align: right;\n",
       "    }\n",
       "</style>\n",
       "<table border=\"1\" class=\"dataframe\">\n",
       "  <thead>\n",
       "    <tr style=\"text-align: right;\">\n",
       "      <th></th>\n",
       "      <th>source</th>\n",
       "      <th>day</th>\n",
       "      <th>cost</th>\n",
       "    </tr>\n",
       "  </thead>\n",
       "  <tbody>\n",
       "    <tr>\n",
       "      <td>count</td>\n",
       "      <td>28</td>\n",
       "      <td>28</td>\n",
       "      <td>28.000000</td>\n",
       "    </tr>\n",
       "    <tr>\n",
       "      <td>unique</td>\n",
       "      <td>4</td>\n",
       "      <td>7</td>\n",
       "      <td>NaN</td>\n",
       "    </tr>\n",
       "    <tr>\n",
       "      <td>top</td>\n",
       "      <td>youtube_channel_network</td>\n",
       "      <td>2020-05-08</td>\n",
       "      <td>NaN</td>\n",
       "    </tr>\n",
       "    <tr>\n",
       "      <td>freq</td>\n",
       "      <td>7</td>\n",
       "      <td>4</td>\n",
       "      <td>NaN</td>\n",
       "    </tr>\n",
       "    <tr>\n",
       "      <td>mean</td>\n",
       "      <td>NaN</td>\n",
       "      <td>NaN</td>\n",
       "      <td>271.556321</td>\n",
       "    </tr>\n",
       "    <tr>\n",
       "      <td>std</td>\n",
       "      <td>NaN</td>\n",
       "      <td>NaN</td>\n",
       "      <td>286.867650</td>\n",
       "    </tr>\n",
       "    <tr>\n",
       "      <td>min</td>\n",
       "      <td>NaN</td>\n",
       "      <td>NaN</td>\n",
       "      <td>23.314669</td>\n",
       "    </tr>\n",
       "    <tr>\n",
       "      <td>25%</td>\n",
       "      <td>NaN</td>\n",
       "      <td>NaN</td>\n",
       "      <td>66.747365</td>\n",
       "    </tr>\n",
       "    <tr>\n",
       "      <td>50%</td>\n",
       "      <td>NaN</td>\n",
       "      <td>NaN</td>\n",
       "      <td>160.056443</td>\n",
       "    </tr>\n",
       "    <tr>\n",
       "      <td>75%</td>\n",
       "      <td>NaN</td>\n",
       "      <td>NaN</td>\n",
       "      <td>349.034473</td>\n",
       "    </tr>\n",
       "    <tr>\n",
       "      <td>max</td>\n",
       "      <td>NaN</td>\n",
       "      <td>NaN</td>\n",
       "      <td>969.139394</td>\n",
       "    </tr>\n",
       "  </tbody>\n",
       "</table>\n",
       "</div>"
      ],
      "text/plain": [
       "                         source         day        cost\n",
       "count   28                       28          28.000000 \n",
       "unique  4                        7          NaN        \n",
       "top     youtube_channel_network  2020-05-08 NaN        \n",
       "freq    7                        4          NaN        \n",
       "mean    NaN                      NaN         271.556321\n",
       "std     NaN                      NaN         286.867650\n",
       "min     NaN                      NaN         23.314669 \n",
       "25%     NaN                      NaN         66.747365 \n",
       "50%     NaN                      NaN         160.056443\n",
       "75%     NaN                      NaN         349.034473\n",
       "max     NaN                      NaN         969.139394"
      ]
     },
     "execution_count": 13,
     "metadata": {},
     "output_type": "execute_result"
    }
   ],
   "source": [
    "ad_cost.describe(include='all')"
   ]
  },
  {
   "cell_type": "code",
   "execution_count": 14,
   "metadata": {},
   "outputs": [
    {
     "data": {
      "text/plain": [
       "0"
      ]
     },
     "execution_count": 14,
     "metadata": {},
     "output_type": "execute_result"
    }
   ],
   "source": [
    "ad_cost.duplicated().sum()"
   ]
  },
  {
   "cell_type": "code",
   "execution_count": 15,
   "metadata": {},
   "outputs": [
    {
     "data": {
      "text/plain": [
       "7603.576986788022"
      ]
     },
     "execution_count": 15,
     "metadata": {},
     "output_type": "execute_result"
    }
   ],
   "source": [
    "ad_cost['cost'].sum()"
   ]
  },
  {
   "cell_type": "code",
   "execution_count": 16,
   "metadata": {},
   "outputs": [
    {
     "data": {
      "image/png": "[encoded data removed]",
      "text/plain": [
       "<Figure size 576x432 with 1 Axes>"
      ]
     },
     "metadata": {},
     "output_type": "display_data"
    }
   ],
   "source": [
    "plt.figure(figsize=(8,6))\n",
    "fig = plt.pie(ad_cost.groupby('source')['cost'].sum(),autopct='%1.2f%%')\n",
    "plt.title('Cost of user acquisition by source', weight='bold', fontsize='14')\n",
    "plt.legend(ad_cost.groupby('source')['cost'].sum().index,loc='center left', bbox_to_anchor=(1, 0.5));"
   ]
  },
  {
   "cell_type": "code",
   "execution_count": 17,
   "metadata": {},
   "outputs": [],
   "source": [
    "ad_cost_grouped = ad_cost.groupby(['day','source'])['cost'].sum().reset_index()"
   ]
  },
  {
   "cell_type": "code",
   "execution_count": 18,
   "metadata": {},
   "outputs": [
    {
     "data": {
      "image/png": "[encoded data removed]",
      "text/plain": [
       "<Figure size 864x432 with 1 Axes>"
      ]
     },
     "metadata": {},
     "output_type": "display_data"
    }
   ],
   "source": [
    "plt.figure(figsize = (12,6))\n",
    "fig = sns.barplot(x='day',y='cost', data=ad_cost_grouped, hue = 'source')\n",
    "fig.set_title('Cost of user acquisition by source over time', weight='bold', fontsize='14')\n",
    "fig.set_xlabel('Date', fontsize='12')\n",
    "fig.set_ylabel('Cost', fontsize='12');"
   ]
  },
  {
   "cell_type": "markdown",
   "metadata": {},
   "source": [
    "### Conclusion"
   ]
  },
  {
   "cell_type": "markdown",
   "metadata": {},
   "source": [
    " - Over a week, we spend almost equal amount of money to recruit users from Facebook, Google Play and Instagram, and slightly less to recruit from Youtube\n",
    " - We can see, that amount of users recruited is in direct correlation with amount of money we spend to acquire them, with 1 day lag"
   ]
  },
  {
   "cell_type": "markdown",
   "metadata": {},
   "source": [
    "### 1.3. Events"
   ]
  },
  {
   "cell_type": "code",
   "execution_count": 19,
   "metadata": {},
   "outputs": [],
   "source": [
    "events  = pd.read_csv('/datasets/events_us.csv')"
   ]
  },
  {
   "cell_type": "code",
   "execution_count": 20,
   "metadata": {},
   "outputs": [
    {
     "data": {
      "text/html": [
       "<div>\n",
       "<style scoped>\n",
       "    .dataframe tbody tr th:only-of-type {\n",
       "        vertical-align: middle;\n",
       "    }\n",
       "\n",
       "    .dataframe tbody tr th {\n",
       "        vertical-align: top;\n",
       "    }\n",
       "\n",
       "    .dataframe thead th {\n",
       "        text-align: right;\n",
       "    }\n",
       "</style>\n",
       "<table border=\"1\" class=\"dataframe\">\n",
       "  <thead>\n",
       "    <tr style=\"text-align: right;\">\n",
       "      <th></th>\n",
       "      <th>event_datetime</th>\n",
       "      <th>event</th>\n",
       "      <th>building_type</th>\n",
       "      <th>user_id</th>\n",
       "      <th>project_type</th>\n",
       "    </tr>\n",
       "  </thead>\n",
       "  <tbody>\n",
       "    <tr>\n",
       "      <td>135635</td>\n",
       "      <td>2020-06-05 00:08:06</td>\n",
       "      <td>building</td>\n",
       "      <td>research_center</td>\n",
       "      <td>f21d179f-1c4b-437e-b9c6-ab1976907195</td>\n",
       "      <td>NaN</td>\n",
       "    </tr>\n",
       "    <tr>\n",
       "      <td>135636</td>\n",
       "      <td>2020-06-05 02:25:12</td>\n",
       "      <td>finished_stage_1</td>\n",
       "      <td>NaN</td>\n",
       "      <td>515c1952-99aa-4bca-a7ea-d0449eb5385a</td>\n",
       "      <td>NaN</td>\n",
       "    </tr>\n",
       "    <tr>\n",
       "      <td>135637</td>\n",
       "      <td>2020-06-05 08:57:52</td>\n",
       "      <td>building</td>\n",
       "      <td>research_center</td>\n",
       "      <td>ed3e7d02-8a96-4be7-9998-e9813ff9c316</td>\n",
       "      <td>NaN</td>\n",
       "    </tr>\n",
       "    <tr>\n",
       "      <td>135638</td>\n",
       "      <td>2020-06-05 12:12:27</td>\n",
       "      <td>finished_stage_1</td>\n",
       "      <td>NaN</td>\n",
       "      <td>32572adb-900f-4b5d-a453-1eb1e6d88d8b</td>\n",
       "      <td>NaN</td>\n",
       "    </tr>\n",
       "    <tr>\n",
       "      <td>135639</td>\n",
       "      <td>2020-06-05 12:32:49</td>\n",
       "      <td>finished_stage_1</td>\n",
       "      <td>NaN</td>\n",
       "      <td>f21d179f-1c4b-437e-b9c6-ab1976907195</td>\n",
       "      <td>NaN</td>\n",
       "    </tr>\n",
       "  </tbody>\n",
       "</table>\n",
       "</div>"
      ],
      "text/plain": [
       "             event_datetime             event    building_type  \\\n",
       "135635  2020-06-05 00:08:06  building          research_center   \n",
       "135636  2020-06-05 02:25:12  finished_stage_1  NaN               \n",
       "135637  2020-06-05 08:57:52  building          research_center   \n",
       "135638  2020-06-05 12:12:27  finished_stage_1  NaN               \n",
       "135639  2020-06-05 12:32:49  finished_stage_1  NaN               \n",
       "\n",
       "                                     user_id project_type  \n",
       "135635  f21d179f-1c4b-437e-b9c6-ab1976907195  NaN          \n",
       "135636  515c1952-99aa-4bca-a7ea-d0449eb5385a  NaN          \n",
       "135637  ed3e7d02-8a96-4be7-9998-e9813ff9c316  NaN          \n",
       "135638  32572adb-900f-4b5d-a453-1eb1e6d88d8b  NaN          \n",
       "135639  f21d179f-1c4b-437e-b9c6-ab1976907195  NaN          "
      ]
     },
     "execution_count": 20,
     "metadata": {},
     "output_type": "execute_result"
    }
   ],
   "source": [
    "events.tail()"
   ]
  },
  {
   "cell_type": "code",
   "execution_count": 21,
   "metadata": {},
   "outputs": [
    {
     "name": "stdout",
     "output_type": "stream",
     "text": [
      "<class 'pandas.core.frame.DataFrame'>\n",
      "RangeIndex: 135640 entries, 0 to 135639\n",
      "Data columns (total 5 columns):\n",
      "event_datetime    135640 non-null object\n",
      "event             135640 non-null object\n",
      "building_type     127957 non-null object\n",
      "user_id           135640 non-null object\n",
      "project_type      1866 non-null object\n",
      "dtypes: object(5)\n",
      "memory usage: 5.2+ MB\n"
     ]
    }
   ],
   "source": [
    "events.info()"
   ]
  },
  {
   "cell_type": "code",
   "execution_count": 22,
   "metadata": {},
   "outputs": [],
   "source": [
    "events['event_datetime'] = events['event_datetime'].astype('datetime64')"
   ]
  },
  {
   "cell_type": "code",
   "execution_count": 23,
   "metadata": {},
   "outputs": [
    {
     "data": {
      "text/html": [
       "<div>\n",
       "<style scoped>\n",
       "    .dataframe tbody tr th:only-of-type {\n",
       "        vertical-align: middle;\n",
       "    }\n",
       "\n",
       "    .dataframe tbody tr th {\n",
       "        vertical-align: top;\n",
       "    }\n",
       "\n",
       "    .dataframe thead th {\n",
       "        text-align: right;\n",
       "    }\n",
       "</style>\n",
       "<table border=\"1\" class=\"dataframe\">\n",
       "  <thead>\n",
       "    <tr style=\"text-align: right;\">\n",
       "      <th></th>\n",
       "      <th>event_datetime</th>\n",
       "      <th>event</th>\n",
       "      <th>building_type</th>\n",
       "      <th>user_id</th>\n",
       "      <th>project_type</th>\n",
       "    </tr>\n",
       "  </thead>\n",
       "  <tbody>\n",
       "    <tr>\n",
       "      <td>count</td>\n",
       "      <td>135640</td>\n",
       "      <td>135640</td>\n",
       "      <td>127957</td>\n",
       "      <td>135640</td>\n",
       "      <td>1866</td>\n",
       "    </tr>\n",
       "    <tr>\n",
       "      <td>unique</td>\n",
       "      <td>128790</td>\n",
       "      <td>3</td>\n",
       "      <td>3</td>\n",
       "      <td>13576</td>\n",
       "      <td>1</td>\n",
       "    </tr>\n",
       "    <tr>\n",
       "      <td>top</td>\n",
       "      <td>2020-05-09 08:39:32</td>\n",
       "      <td>building</td>\n",
       "      <td>spaceport</td>\n",
       "      <td>bf542075-e3a2-4e79-82d8-3838e86d2a25</td>\n",
       "      <td>satellite_orbital_assembly</td>\n",
       "    </tr>\n",
       "    <tr>\n",
       "      <td>freq</td>\n",
       "      <td>4</td>\n",
       "      <td>127957</td>\n",
       "      <td>59325</td>\n",
       "      <td>22</td>\n",
       "      <td>1866</td>\n",
       "    </tr>\n",
       "    <tr>\n",
       "      <td>first</td>\n",
       "      <td>2020-05-04 00:00:01</td>\n",
       "      <td>NaN</td>\n",
       "      <td>NaN</td>\n",
       "      <td>NaN</td>\n",
       "      <td>NaN</td>\n",
       "    </tr>\n",
       "    <tr>\n",
       "      <td>last</td>\n",
       "      <td>2020-06-05 12:32:49</td>\n",
       "      <td>NaN</td>\n",
       "      <td>NaN</td>\n",
       "      <td>NaN</td>\n",
       "      <td>NaN</td>\n",
       "    </tr>\n",
       "  </tbody>\n",
       "</table>\n",
       "</div>"
      ],
      "text/plain": [
       "             event_datetime     event building_type  \\\n",
       "count   135640               135640    127957         \n",
       "unique  128790               3         3              \n",
       "top     2020-05-09 08:39:32  building  spaceport      \n",
       "freq    4                    127957    59325          \n",
       "first   2020-05-04 00:00:01  NaN       NaN            \n",
       "last    2020-06-05 12:32:49  NaN       NaN            \n",
       "\n",
       "                                     user_id                project_type  \n",
       "count   135640                                1866                        \n",
       "unique  13576                                 1                           \n",
       "top     bf542075-e3a2-4e79-82d8-3838e86d2a25  satellite_orbital_assembly  \n",
       "freq    22                                    1866                        \n",
       "first   NaN                                   NaN                         \n",
       "last    NaN                                   NaN                         "
      ]
     },
     "execution_count": 23,
     "metadata": {},
     "output_type": "execute_result"
    }
   ],
   "source": [
    "events.describe(include='all')"
   ]
  },
  {
   "cell_type": "code",
   "execution_count": 24,
   "metadata": {},
   "outputs": [
    {
     "data": {
      "text/plain": [
       "1"
      ]
     },
     "execution_count": 24,
     "metadata": {},
     "output_type": "execute_result"
    }
   ],
   "source": [
    "events.duplicated().sum()"
   ]
  },
  {
   "cell_type": "code",
   "execution_count": 25,
   "metadata": {},
   "outputs": [
    {
     "data": {
      "text/html": [
       "<div>\n",
       "<style scoped>\n",
       "    .dataframe tbody tr th:only-of-type {\n",
       "        vertical-align: middle;\n",
       "    }\n",
       "\n",
       "    .dataframe tbody tr th {\n",
       "        vertical-align: top;\n",
       "    }\n",
       "\n",
       "    .dataframe thead th {\n",
       "        text-align: right;\n",
       "    }\n",
       "</style>\n",
       "<table border=\"1\" class=\"dataframe\">\n",
       "  <thead>\n",
       "    <tr style=\"text-align: right;\">\n",
       "      <th></th>\n",
       "      <th>event_datetime</th>\n",
       "      <th>event</th>\n",
       "      <th>building_type</th>\n",
       "      <th>user_id</th>\n",
       "      <th>project_type</th>\n",
       "    </tr>\n",
       "  </thead>\n",
       "  <tbody>\n",
       "    <tr>\n",
       "      <td>74890</td>\n",
       "      <td>2020-05-10 18:41:56</td>\n",
       "      <td>building</td>\n",
       "      <td>research_center</td>\n",
       "      <td>c9af55d2-b0ae-4bb4-b3d5-f32aa9ac03af</td>\n",
       "      <td>NaN</td>\n",
       "    </tr>\n",
       "    <tr>\n",
       "      <td>74891</td>\n",
       "      <td>2020-05-10 18:41:56</td>\n",
       "      <td>building</td>\n",
       "      <td>research_center</td>\n",
       "      <td>c9af55d2-b0ae-4bb4-b3d5-f32aa9ac03af</td>\n",
       "      <td>NaN</td>\n",
       "    </tr>\n",
       "  </tbody>\n",
       "</table>\n",
       "</div>"
      ],
      "text/plain": [
       "           event_datetime     event    building_type  \\\n",
       "74890 2020-05-10 18:41:56  building  research_center   \n",
       "74891 2020-05-10 18:41:56  building  research_center   \n",
       "\n",
       "                                    user_id project_type  \n",
       "74890  c9af55d2-b0ae-4bb4-b3d5-f32aa9ac03af  NaN          \n",
       "74891  c9af55d2-b0ae-4bb4-b3d5-f32aa9ac03af  NaN          "
      ]
     },
     "execution_count": 25,
     "metadata": {},
     "output_type": "execute_result"
    }
   ],
   "source": [
    "events[events.duplicated(keep=False)]"
   ]
  },
  {
   "cell_type": "code",
   "execution_count": 26,
   "metadata": {},
   "outputs": [],
   "source": [
    "events.drop_duplicates(inplace=True)"
   ]
  },
  {
   "cell_type": "code",
   "execution_count": 27,
   "metadata": {},
   "outputs": [
    {
     "data": {
      "text/plain": [
       "building            0.943357\n",
       "finished_stage_1    0.042886\n",
       "project             0.013757\n",
       "Name: event, dtype: float64"
      ]
     },
     "execution_count": 27,
     "metadata": {},
     "output_type": "execute_result"
    }
   ],
   "source": [
    "events['event'].value_counts(normalize=True)"
   ]
  },
  {
   "cell_type": "code",
   "execution_count": 28,
   "metadata": {},
   "outputs": [
    {
     "data": {
      "image/png": "[encoded data removed]",
      "text/plain": [
       "<Figure size 720x432 with 1 Axes>"
      ]
     },
     "metadata": {},
     "output_type": "display_data"
    }
   ],
   "source": [
    "plt.figure(figsize=(10,6))\n",
    "fig = sns.lineplot(data = events['event_datetime'].dt.date.value_counts())\n",
    "fig.set_title('Amount of actions by date', weight='bold', fontsize='14')\n",
    "plt.xticks(events['event_datetime'].dt.date.value_counts().index,rotation=90)\n",
    "fig.set_xlabel('Date', fontsize='12')\n",
    "fig.set_ylabel('Amount of actions', fontsize='12')\n",
    "plt.axvline(x='2020-05-10',ymax = 0.95, color = 'red', alpha=0.5);"
   ]
  },
  {
   "cell_type": "markdown",
   "metadata": {},
   "source": [
    "Average amount of building screen action per user"
   ]
  },
  {
   "cell_type": "code",
   "execution_count": 29,
   "metadata": {},
   "outputs": [
    {
     "data": {
      "text/plain": [
       "9.425162050677667"
      ]
     },
     "execution_count": 29,
     "metadata": {},
     "output_type": "execute_result"
    }
   ],
   "source": [
    "events[events['event'] == 'building'].groupby('user_id')['event'].count().mean()"
   ]
  },
  {
   "cell_type": "markdown",
   "metadata": {},
   "source": [
    "### Conclusion"
   ]
  },
  {
   "cell_type": "markdown",
   "metadata": {},
   "source": [
    "- We have data about 135000 users actions thruout a month from 04-05-2020 to 04-06-2020. \n",
    "- The most amount of actions were performed on 10 of May'20, and then started to go down almost reaching 0 in 30d period. \n",
    "- Such activity could be explained by fact, that by this most of the users got into core game mechanics and liked it\n",
    "- 94% of all actions are building type, which means that idea of showing advertizing on building screen is a good idea, since users will saw it quite often"
   ]
  },
  {
   "cell_type": "markdown",
   "metadata": {},
   "source": [
    "# Part 2. Exploratory data analysis"
   ]
  },
  {
   "cell_type": "markdown",
   "metadata": {},
   "source": [
    "Amount of users, who passed stage 1, by any possible conditions"
   ]
  },
  {
   "cell_type": "code",
   "execution_count": 30,
   "metadata": {},
   "outputs": [
    {
     "data": {
      "text/plain": [
       "5817"
      ]
     },
     "execution_count": 30,
     "metadata": {},
     "output_type": "execute_result"
    }
   ],
   "source": [
    "users_passed_stage_1 = events[events['event'] == 'finished_stage_1']['user_id']\n",
    "users_passed_stage_1.nunique() "
   ]
  },
  {
   "cell_type": "markdown",
   "metadata": {},
   "source": [
    "Share of users, who passed stage 1, by any possible conditions"
   ]
  },
  {
   "cell_type": "code",
   "execution_count": 31,
   "metadata": {},
   "outputs": [
    {
     "data": {
      "text/plain": [
       "0.42847672362993516"
      ]
     },
     "execution_count": 31,
     "metadata": {},
     "output_type": "execute_result"
    }
   ],
   "source": [
    "users_passed_stage_1.nunique() / events['user_id'].nunique()"
   ]
  },
  {
   "cell_type": "markdown",
   "metadata": {},
   "source": [
    "Amount of users, who passed stage 1 by building orbial satelite system"
   ]
  },
  {
   "cell_type": "code",
   "execution_count": 32,
   "metadata": {},
   "outputs": [
    {
     "data": {
      "text/plain": [
       "1866"
      ]
     },
     "execution_count": 32,
     "metadata": {},
     "output_type": "execute_result"
    }
   ],
   "source": [
    "users_build_satelite = events[events['event'] == 'project']['user_id']\n",
    "users_build_satelite.nunique()"
   ]
  },
  {
   "cell_type": "markdown",
   "metadata": {},
   "source": [
    "Share of users, who passed stage 1 by building orbial satelite system"
   ]
  },
  {
   "cell_type": "code",
   "execution_count": 33,
   "metadata": {},
   "outputs": [
    {
     "data": {
      "text/plain": [
       "0.32078390923156264"
      ]
     },
     "execution_count": 33,
     "metadata": {},
     "output_type": "execute_result"
    }
   ],
   "source": [
    "users_build_satelite.nunique() / users_passed_stage_1.nunique()"
   ]
  },
  {
   "cell_type": "markdown",
   "metadata": {},
   "source": [
    "So, about 43% of users passed stage 1, out of this users 32% passed by building satellite orbital assembly, other 2/3 of users passed by defeating boss"
   ]
  },
  {
   "cell_type": "markdown",
   "metadata": {},
   "source": [
    "Average amount of events per user"
   ]
  },
  {
   "cell_type": "code",
   "execution_count": 34,
   "metadata": {},
   "outputs": [
    {
     "data": {
      "text/plain": [
       "9.991087212728344"
      ]
     },
     "execution_count": 34,
     "metadata": {},
     "output_type": "execute_result"
    }
   ],
   "source": [
    "events.groupby('user_id')['event'].count().mean()"
   ]
  },
  {
   "cell_type": "code",
   "execution_count": 35,
   "metadata": {},
   "outputs": [
    {
     "data": {
      "image/png": "[encoded data removed]",
      "text/plain": [
       "<Figure size 576x288 with 1 Axes>"
      ]
     },
     "metadata": {},
     "output_type": "display_data"
    }
   ],
   "source": [
    "plt.figure(figsize=(8,4))\n",
    "fig = events.groupby('user_id')['event'].count().hist(bins=25)\n",
    "plt.title('Number of events by users distribution', weight='bold', fontsize='14')\n",
    "fig.set_xlabel('Number of events', fontsize='12')\n",
    "fig.set_ylabel('Number of users', fontsize='12');"
   ]
  },
  {
   "cell_type": "code",
   "execution_count": 36,
   "metadata": {},
   "outputs": [
    {
     "data": {
      "text/plain": [
       "11.770500257864878"
      ]
     },
     "execution_count": 36,
     "metadata": {},
     "output_type": "execute_result"
    }
   ],
   "source": [
    "events[events['user_id'].isin(users_passed_stage_1)].groupby('user_id')['event'].count().mean()"
   ]
  },
  {
   "cell_type": "code",
   "execution_count": 37,
   "metadata": {},
   "outputs": [
    {
     "data": {
      "text/plain": [
       "14.64790996784566"
      ]
     },
     "execution_count": 37,
     "metadata": {},
     "output_type": "execute_result"
    }
   ],
   "source": [
    "events[events['user_id'].isin(users_build_satelite)].groupby('user_id')['event'].count().mean()"
   ]
  },
  {
   "cell_type": "markdown",
   "metadata": {},
   "source": [
    "Average amount of actions per users is 10. \n",
    "\n",
    "Based on average amount of actions per user, it seems that we have 4 groups of users: \n",
    " - early leavers; \n",
    " - those, who defeated boss or close to it;\n",
    " - those, who build satellite orbital assembly or close to it\n",
    " - hard core games, that try every action in the game"
   ]
  },
  {
   "cell_type": "markdown",
   "metadata": {},
   "source": [
    "### Daily active users"
   ]
  },
  {
   "cell_type": "code",
   "execution_count": 38,
   "metadata": {},
   "outputs": [
    {
     "name": "stdout",
     "output_type": "stream",
     "text": [
      "On average we had 2884 daily active users\n"
     ]
    }
   ],
   "source": [
    "events['date'] = events['event_datetime'].dt.date\n",
    "dau = events.groupby('date')['user_id'].nunique().reset_index()\n",
    "print('On average we had {} daily active users'.format(int(dau.mean())))"
   ]
  },
  {
   "cell_type": "markdown",
   "metadata": {},
   "source": [
    "Average actions per date"
   ]
  },
  {
   "cell_type": "code",
   "execution_count": 39,
   "metadata": {},
   "outputs": [
    {
     "data": {
      "text/plain": [
       "4110.272727272727"
      ]
     },
     "execution_count": 39,
     "metadata": {},
     "output_type": "execute_result"
    }
   ],
   "source": [
    "events.groupby('date')['event'].count().mean()"
   ]
  },
  {
   "cell_type": "code",
   "execution_count": 40,
   "metadata": {},
   "outputs": [
    {
     "data": {
      "image/png": "[encoded data removed]",
      "text/plain": [
       "<Figure size 720x432 with 1 Axes>"
      ]
     },
     "metadata": {},
     "output_type": "display_data"
    }
   ],
   "source": [
    "plt.figure(figsize=(10,6))\n",
    "fig = sns.lineplot(data=dau, x ='date', y = 'user_id')\n",
    "fig.set_title('Number of daily active users', weight='bold', fontsize='14')\n",
    "fig.set_xlabel('Date', fontsize='12')\n",
    "fig.set_ylabel('Amount of users', fontsize='12')\n",
    "plt.xticks(dau['date'],rotation=90);"
   ]
  },
  {
   "cell_type": "markdown",
   "metadata": {},
   "source": [
    "As well as in amount of events, most amount of active users where on 10 of May'20"
   ]
  },
  {
   "cell_type": "markdown",
   "metadata": {},
   "source": [
    "### Retention"
   ]
  },
  {
   "cell_type": "code",
   "execution_count": 41,
   "metadata": {},
   "outputs": [
    {
     "data": {
      "text/html": [
       "<div>\n",
       "<style scoped>\n",
       "    .dataframe tbody tr th:only-of-type {\n",
       "        vertical-align: middle;\n",
       "    }\n",
       "\n",
       "    .dataframe tbody tr th {\n",
       "        vertical-align: top;\n",
       "    }\n",
       "\n",
       "    .dataframe thead th {\n",
       "        text-align: right;\n",
       "    }\n",
       "</style>\n",
       "<table border=\"1\" class=\"dataframe\">\n",
       "  <thead>\n",
       "    <tr style=\"text-align: right;\">\n",
       "      <th></th>\n",
       "      <th>event_datetime</th>\n",
       "      <th>event</th>\n",
       "      <th>building_type</th>\n",
       "      <th>user_id</th>\n",
       "      <th>project_type</th>\n",
       "      <th>date</th>\n",
       "      <th>event_date</th>\n",
       "      <th>source</th>\n",
       "    </tr>\n",
       "  </thead>\n",
       "  <tbody>\n",
       "    <tr>\n",
       "      <td>0</td>\n",
       "      <td>2020-05-04 00:00:01</td>\n",
       "      <td>building</td>\n",
       "      <td>assembly_shop</td>\n",
       "      <td>55e92310-cb8e-4754-b622-597e124b03de</td>\n",
       "      <td>NaN</td>\n",
       "      <td>2020-05-04</td>\n",
       "      <td>2020-05-04</td>\n",
       "      <td>youtube_channel_network</td>\n",
       "    </tr>\n",
       "    <tr>\n",
       "      <td>1</td>\n",
       "      <td>2020-05-04 00:00:03</td>\n",
       "      <td>building</td>\n",
       "      <td>assembly_shop</td>\n",
       "      <td>c07b1c10-f477-44dc-81dc-ec82254b1347</td>\n",
       "      <td>NaN</td>\n",
       "      <td>2020-05-04</td>\n",
       "      <td>2020-05-04</td>\n",
       "      <td>facebook_ads</td>\n",
       "    </tr>\n",
       "    <tr>\n",
       "      <td>2</td>\n",
       "      <td>2020-05-04 00:00:16</td>\n",
       "      <td>building</td>\n",
       "      <td>assembly_shop</td>\n",
       "      <td>6edd42cc-e753-4ff6-a947-2107cd560710</td>\n",
       "      <td>NaN</td>\n",
       "      <td>2020-05-04</td>\n",
       "      <td>2020-05-04</td>\n",
       "      <td>instagram_new_adverts</td>\n",
       "    </tr>\n",
       "    <tr>\n",
       "      <td>3</td>\n",
       "      <td>2020-05-04 00:00:16</td>\n",
       "      <td>building</td>\n",
       "      <td>assembly_shop</td>\n",
       "      <td>92c69003-d60a-444a-827f-8cc51bf6bf4c</td>\n",
       "      <td>NaN</td>\n",
       "      <td>2020-05-04</td>\n",
       "      <td>2020-05-04</td>\n",
       "      <td>facebook_ads</td>\n",
       "    </tr>\n",
       "    <tr>\n",
       "      <td>4</td>\n",
       "      <td>2020-05-04 00:00:35</td>\n",
       "      <td>building</td>\n",
       "      <td>assembly_shop</td>\n",
       "      <td>cdc6bb92-0ccb-4490-9866-ef142f09139d</td>\n",
       "      <td>NaN</td>\n",
       "      <td>2020-05-04</td>\n",
       "      <td>2020-05-04</td>\n",
       "      <td>google_play_ads</td>\n",
       "    </tr>\n",
       "  </tbody>\n",
       "</table>\n",
       "</div>"
      ],
      "text/plain": [
       "       event_datetime     event  building_type  \\\n",
       "0 2020-05-04 00:00:01  building  assembly_shop   \n",
       "1 2020-05-04 00:00:03  building  assembly_shop   \n",
       "2 2020-05-04 00:00:16  building  assembly_shop   \n",
       "3 2020-05-04 00:00:16  building  assembly_shop   \n",
       "4 2020-05-04 00:00:35  building  assembly_shop   \n",
       "\n",
       "                                user_id project_type        date event_date  \\\n",
       "0  55e92310-cb8e-4754-b622-597e124b03de  NaN          2020-05-04 2020-05-04   \n",
       "1  c07b1c10-f477-44dc-81dc-ec82254b1347  NaN          2020-05-04 2020-05-04   \n",
       "2  6edd42cc-e753-4ff6-a947-2107cd560710  NaN          2020-05-04 2020-05-04   \n",
       "3  92c69003-d60a-444a-827f-8cc51bf6bf4c  NaN          2020-05-04 2020-05-04   \n",
       "4  cdc6bb92-0ccb-4490-9866-ef142f09139d  NaN          2020-05-04 2020-05-04   \n",
       "\n",
       "                    source  \n",
       "0  youtube_channel_network  \n",
       "1  facebook_ads             \n",
       "2  instagram_new_adverts    \n",
       "3  facebook_ads             \n",
       "4  google_play_ads          "
      ]
     },
     "execution_count": 41,
     "metadata": {},
     "output_type": "execute_result"
    }
   ],
   "source": [
    "events = pd.merge(events, users_data, how='left', on='user_id')\n",
    "events.head()"
   ]
  },
  {
   "cell_type": "code",
   "execution_count": 42,
   "metadata": {},
   "outputs": [
    {
     "data": {
      "text/html": [
       "<div>\n",
       "<style scoped>\n",
       "    .dataframe tbody tr th:only-of-type {\n",
       "        vertical-align: middle;\n",
       "    }\n",
       "\n",
       "    .dataframe tbody tr th {\n",
       "        vertical-align: top;\n",
       "    }\n",
       "\n",
       "    .dataframe thead th {\n",
       "        text-align: right;\n",
       "    }\n",
       "</style>\n",
       "<table border=\"1\" class=\"dataframe\">\n",
       "  <thead>\n",
       "    <tr style=\"text-align: right;\">\n",
       "      <th></th>\n",
       "      <th>event_datetime</th>\n",
       "      <th>event</th>\n",
       "      <th>building_type</th>\n",
       "      <th>user_id</th>\n",
       "      <th>project_type</th>\n",
       "      <th>date</th>\n",
       "      <th>event_date</th>\n",
       "      <th>source</th>\n",
       "      <th>first_action</th>\n",
       "    </tr>\n",
       "  </thead>\n",
       "  <tbody>\n",
       "    <tr>\n",
       "      <td>0</td>\n",
       "      <td>2020-05-04 00:00:01</td>\n",
       "      <td>building</td>\n",
       "      <td>assembly_shop</td>\n",
       "      <td>55e92310-cb8e-4754-b622-597e124b03de</td>\n",
       "      <td>NaN</td>\n",
       "      <td>2020-05-04</td>\n",
       "      <td>2020-05-04</td>\n",
       "      <td>youtube_channel_network</td>\n",
       "      <td>2020-05-04 00:00:01</td>\n",
       "    </tr>\n",
       "    <tr>\n",
       "      <td>1</td>\n",
       "      <td>2020-05-04 00:00:03</td>\n",
       "      <td>building</td>\n",
       "      <td>assembly_shop</td>\n",
       "      <td>c07b1c10-f477-44dc-81dc-ec82254b1347</td>\n",
       "      <td>NaN</td>\n",
       "      <td>2020-05-04</td>\n",
       "      <td>2020-05-04</td>\n",
       "      <td>facebook_ads</td>\n",
       "      <td>2020-05-04 00:00:03</td>\n",
       "    </tr>\n",
       "    <tr>\n",
       "      <td>2</td>\n",
       "      <td>2020-05-04 00:00:16</td>\n",
       "      <td>building</td>\n",
       "      <td>assembly_shop</td>\n",
       "      <td>6edd42cc-e753-4ff6-a947-2107cd560710</td>\n",
       "      <td>NaN</td>\n",
       "      <td>2020-05-04</td>\n",
       "      <td>2020-05-04</td>\n",
       "      <td>instagram_new_adverts</td>\n",
       "      <td>2020-05-04 00:00:16</td>\n",
       "    </tr>\n",
       "    <tr>\n",
       "      <td>3</td>\n",
       "      <td>2020-05-04 00:00:16</td>\n",
       "      <td>building</td>\n",
       "      <td>assembly_shop</td>\n",
       "      <td>92c69003-d60a-444a-827f-8cc51bf6bf4c</td>\n",
       "      <td>NaN</td>\n",
       "      <td>2020-05-04</td>\n",
       "      <td>2020-05-04</td>\n",
       "      <td>facebook_ads</td>\n",
       "      <td>2020-05-04 00:00:16</td>\n",
       "    </tr>\n",
       "    <tr>\n",
       "      <td>4</td>\n",
       "      <td>2020-05-04 00:00:35</td>\n",
       "      <td>building</td>\n",
       "      <td>assembly_shop</td>\n",
       "      <td>cdc6bb92-0ccb-4490-9866-ef142f09139d</td>\n",
       "      <td>NaN</td>\n",
       "      <td>2020-05-04</td>\n",
       "      <td>2020-05-04</td>\n",
       "      <td>google_play_ads</td>\n",
       "      <td>2020-05-04 00:00:35</td>\n",
       "    </tr>\n",
       "  </tbody>\n",
       "</table>\n",
       "</div>"
      ],
      "text/plain": [
       "       event_datetime     event  building_type  \\\n",
       "0 2020-05-04 00:00:01  building  assembly_shop   \n",
       "1 2020-05-04 00:00:03  building  assembly_shop   \n",
       "2 2020-05-04 00:00:16  building  assembly_shop   \n",
       "3 2020-05-04 00:00:16  building  assembly_shop   \n",
       "4 2020-05-04 00:00:35  building  assembly_shop   \n",
       "\n",
       "                                user_id project_type        date event_date  \\\n",
       "0  55e92310-cb8e-4754-b622-597e124b03de  NaN          2020-05-04 2020-05-04   \n",
       "1  c07b1c10-f477-44dc-81dc-ec82254b1347  NaN          2020-05-04 2020-05-04   \n",
       "2  6edd42cc-e753-4ff6-a947-2107cd560710  NaN          2020-05-04 2020-05-04   \n",
       "3  92c69003-d60a-444a-827f-8cc51bf6bf4c  NaN          2020-05-04 2020-05-04   \n",
       "4  cdc6bb92-0ccb-4490-9866-ef142f09139d  NaN          2020-05-04 2020-05-04   \n",
       "\n",
       "                    source        first_action  \n",
       "0  youtube_channel_network 2020-05-04 00:00:01  \n",
       "1  facebook_ads            2020-05-04 00:00:03  \n",
       "2  instagram_new_adverts   2020-05-04 00:00:16  \n",
       "3  facebook_ads            2020-05-04 00:00:16  \n",
       "4  google_play_ads         2020-05-04 00:00:35  "
      ]
     },
     "execution_count": 42,
     "metadata": {},
     "output_type": "execute_result"
    }
   ],
   "source": [
    "first_action = events.groupby('user_id')['event_datetime'].min().reset_index()\n",
    "first_action.columns = ['user_id','first_action']\n",
    "events = pd.merge(events, first_action, how='left', on='user_id')\n",
    "events.head()"
   ]
  },
  {
   "cell_type": "code",
   "execution_count": 43,
   "metadata": {},
   "outputs": [
    {
     "data": {
      "text/plain": [
       "100.0"
      ]
     },
     "execution_count": 43,
     "metadata": {},
     "output_type": "execute_result"
    }
   ],
   "source": [
    "events['first_action'] = events['first_action'].astype('datetime64[D]')\n",
    "events['datediff_reg_to_first_action'] = (events['event_date'] - events['first_action'] ) / np.timedelta64(1, 'D')\n",
    "day_0_retention = (events['user_id'].nunique() / events[events['datediff_reg_to_first_action'] == 0]['user_id'].nunique()) * 100\n",
    "day_0_retention"
   ]
  },
  {
   "cell_type": "markdown",
   "metadata": {},
   "source": [
    "We can say, that we have 100% day 0 retention rate, which is could be considered as quite good result"
   ]
  },
  {
   "cell_type": "code",
   "execution_count": 44,
   "metadata": {},
   "outputs": [],
   "source": [
    "events['first_action'] = pd.to_datetime(events['first_action']).dt.normalize()\n",
    "events['date'] = pd.to_datetime(events['date']).dt.normalize()\n",
    "events['lifetime'] = ((events['date'] - events['first_action']) / np.timedelta64(1, 'D')).round().astype(int)"
   ]
  },
  {
   "cell_type": "code",
   "execution_count": 45,
   "metadata": {},
   "outputs": [
    {
     "data": {
      "text/html": [
       "<div>\n",
       "<style scoped>\n",
       "    .dataframe tbody tr th:only-of-type {\n",
       "        vertical-align: middle;\n",
       "    }\n",
       "\n",
       "    .dataframe tbody tr th {\n",
       "        vertical-align: top;\n",
       "    }\n",
       "\n",
       "    .dataframe thead th {\n",
       "        text-align: right;\n",
       "    }\n",
       "</style>\n",
       "<table border=\"1\" class=\"dataframe\">\n",
       "  <thead>\n",
       "    <tr style=\"text-align: right;\">\n",
       "      <th>lifetime</th>\n",
       "      <th>0</th>\n",
       "      <th>1</th>\n",
       "      <th>7</th>\n",
       "      <th>14</th>\n",
       "      <th>30</th>\n",
       "    </tr>\n",
       "    <tr>\n",
       "      <th>first_action</th>\n",
       "      <th></th>\n",
       "      <th></th>\n",
       "      <th></th>\n",
       "      <th></th>\n",
       "      <th></th>\n",
       "    </tr>\n",
       "  </thead>\n",
       "  <tbody>\n",
       "    <tr>\n",
       "      <td>2020-05-04</td>\n",
       "      <td>1.0</td>\n",
       "      <td>0.515529</td>\n",
       "      <td>0.465529</td>\n",
       "      <td>0.145051</td>\n",
       "      <td>0.000341</td>\n",
       "    </tr>\n",
       "    <tr>\n",
       "      <td>2020-05-05</td>\n",
       "      <td>1.0</td>\n",
       "      <td>0.536447</td>\n",
       "      <td>0.451056</td>\n",
       "      <td>0.134186</td>\n",
       "      <td>NaN</td>\n",
       "    </tr>\n",
       "    <tr>\n",
       "      <td>2020-05-06</td>\n",
       "      <td>1.0</td>\n",
       "      <td>0.519762</td>\n",
       "      <td>0.434759</td>\n",
       "      <td>0.116405</td>\n",
       "      <td>0.000541</td>\n",
       "    </tr>\n",
       "    <tr>\n",
       "      <td>2020-05-07</td>\n",
       "      <td>1.0</td>\n",
       "      <td>0.507665</td>\n",
       "      <td>0.390442</td>\n",
       "      <td>0.095582</td>\n",
       "      <td>NaN</td>\n",
       "    </tr>\n",
       "    <tr>\n",
       "      <td>2020-05-08</td>\n",
       "      <td>1.0</td>\n",
       "      <td>0.482558</td>\n",
       "      <td>0.376453</td>\n",
       "      <td>0.082849</td>\n",
       "      <td>NaN</td>\n",
       "    </tr>\n",
       "    <tr>\n",
       "      <td>2020-05-09</td>\n",
       "      <td>1.0</td>\n",
       "      <td>0.479545</td>\n",
       "      <td>0.381818</td>\n",
       "      <td>0.104545</td>\n",
       "      <td>NaN</td>\n",
       "    </tr>\n",
       "    <tr>\n",
       "      <td>2020-05-10</td>\n",
       "      <td>1.0</td>\n",
       "      <td>0.254613</td>\n",
       "      <td>0.369004</td>\n",
       "      <td>0.110701</td>\n",
       "      <td>NaN</td>\n",
       "    </tr>\n",
       "  </tbody>\n",
       "</table>\n",
       "</div>"
      ],
      "text/plain": [
       "lifetime        0         1         7        14        30\n",
       "first_action                                             \n",
       "2020-05-04    1.0  0.515529  0.465529  0.145051  0.000341\n",
       "2020-05-05    1.0  0.536447  0.451056  0.134186 NaN      \n",
       "2020-05-06    1.0  0.519762  0.434759  0.116405  0.000541\n",
       "2020-05-07    1.0  0.507665  0.390442  0.095582 NaN      \n",
       "2020-05-08    1.0  0.482558  0.376453  0.082849 NaN      \n",
       "2020-05-09    1.0  0.479545  0.381818  0.104545 NaN      \n",
       "2020-05-10    1.0  0.254613  0.369004  0.110701 NaN      "
      ]
     },
     "execution_count": 45,
     "metadata": {},
     "output_type": "execute_result"
    }
   ],
   "source": [
    "cohorts = events.groupby(['first_action','lifetime'])['user_id'].nunique().reset_index()\n",
    "initial_amount = cohorts[cohorts['lifetime'] == 0][['first_action','user_id']]\n",
    "initial_amount = initial_amount.rename(columns={'user_id':'cohort_users'})\n",
    "cohorts = cohorts.merge(initial_amount, on='first_action')\n",
    "cohorts['retention'] = cohorts['user_id'] / cohorts['cohort_users']\n",
    "cohorts['retention']\n",
    "pivot = cohorts.pivot_table(columns = 'lifetime',index='first_action', values='retention', aggfunc='sum')\n",
    "pivot[[0,1,7,14,30]]"
   ]
  },
  {
   "cell_type": "code",
   "execution_count": 46,
   "metadata": {
    "scrolled": false
   },
   "outputs": [
    {
     "data": {
      "image/png": "[encoded data removed]",
      "text/plain": [
       "<Figure size 1008x432 with 2 Axes>"
      ]
     },
     "metadata": {},
     "output_type": "display_data"
    }
   ],
   "source": [
    "plt.figure(figsize=(14, 6))\n",
    "fig = sns.heatmap(pivot[[0,1,7,14,30]], annot=True, fmt='.2%', linewidths=1, linecolor='gray',  cmap='icefire') \n",
    "fig.set_yticklabels(pivot.index.strftime('%Y-%m-%d'))\n",
    "fig.set_title('User Retention', weight='bold', fontsize='14')\n",
    "fig.set_xlabel('Lifetime (in days)', fontsize='12')\n",
    "fig.set_ylabel('Daily cohorts', fontsize='12');"
   ]
  },
  {
   "cell_type": "code",
   "execution_count": 47,
   "metadata": {},
   "outputs": [
    {
     "data": {
      "text/plain": [
       "Timedelta('11 days 19:24:13.739040')"
      ]
     },
     "execution_count": 47,
     "metadata": {},
     "output_type": "execute_result"
    }
   ],
   "source": [
    "finished_stage_1_slice = events[events['event'] == 'finished_stage_1']\n",
    "(finished_stage_1_slice['date'] - finished_stage_1_slice['first_action']).mean()"
   ]
  },
  {
   "cell_type": "markdown",
   "metadata": {},
   "source": [
    "- We have 100% retention rate for day 0, which is quite good. For day 1 we have about 50% rate retention, except for users who joined on 10 May'20. \n",
    "- 2 weeks retention falls off significantly, average level is about 10%. \n",
    "- In order to finish stage 1, on average it requires about 11 days and 19 hours. So it seems, that drop off in 14 days retention is explained by fact that users passed major part of game, got familiar with its features and gameplay and get tired of it. Here we have opportunity to introduce new paid mechanics, that both will keep some users in game and bring us revenue"
   ]
  },
  {
   "cell_type": "markdown",
   "metadata": {},
   "source": [
    "### Potential area for adding boosters(another source of monetization):\n",
    "### Average time between first and second event?"
   ]
  },
  {
   "cell_type": "code",
   "execution_count": 48,
   "metadata": {},
   "outputs": [],
   "source": [
    "events_sorted = events.sort_values(by=['user_id','event_datetime'])\n",
    "first_event = events_sorted.groupby('user_id')['event_datetime'].min().reset_index()"
   ]
  },
  {
   "cell_type": "code",
   "execution_count": 49,
   "metadata": {},
   "outputs": [],
   "source": [
    "second_event = events_sorted[~events_sorted['event_datetime'].isin(first_event['event_datetime'])].groupby('user_id')['event_datetime'].min().reset_index()"
   ]
  },
  {
   "cell_type": "code",
   "execution_count": 50,
   "metadata": {},
   "outputs": [],
   "source": [
    "two_first_events = pd.merge(first_event, second_event, on ='user_id', how='left')"
   ]
  },
  {
   "cell_type": "code",
   "execution_count": 51,
   "metadata": {},
   "outputs": [],
   "source": [
    "two_first_events['datediff'] = ((two_first_events['event_datetime_y'] - two_first_events['event_datetime_x'])/ np.timedelta64(1, 'h')).round()"
   ]
  },
  {
   "cell_type": "code",
   "execution_count": 52,
   "metadata": {},
   "outputs": [
    {
     "data": {
      "text/plain": [
       "count    13517.000000\n",
       "mean     34.206777   \n",
       "std      31.892905   \n",
       "min      0.000000    \n",
       "25%      10.000000   \n",
       "50%      24.000000   \n",
       "75%      49.000000   \n",
       "max      225.000000  \n",
       "Name: datediff, dtype: float64"
      ]
     },
     "execution_count": 52,
     "metadata": {},
     "output_type": "execute_result"
    }
   ],
   "source": [
    "two_first_events['datediff'].describe()"
   ]
  },
  {
   "cell_type": "code",
   "execution_count": 53,
   "metadata": {},
   "outputs": [
    {
     "data": {
      "image/png": "[encoded data removed]",
      "text/plain": [
       "<Figure size 720x432 with 1 Axes>"
      ]
     },
     "metadata": {},
     "output_type": "display_data"
    }
   ],
   "source": [
    "plt.figure(figsize=(10,6))\n",
    "two_first_events['datediff'].hist()\n",
    "plt.title('Hours to 2nd event distribution', weight='bold', fontsize='14')\n",
    "plt.xlabel('Hours')\n",
    "plt.ylabel('Amount of users');"
   ]
  },
  {
   "cell_type": "markdown",
   "metadata": {},
   "source": [
    "### Amount of users, who left after 1st building?"
   ]
  },
  {
   "cell_type": "code",
   "execution_count": 54,
   "metadata": {},
   "outputs": [
    {
     "data": {
      "text/plain": [
       "0.43459045374189753"
      ]
     },
     "execution_count": 54,
     "metadata": {},
     "output_type": "execute_result"
    }
   ],
   "source": [
    "two_first_events[two_first_events['event_datetime_y'].isna()]['user_id'].count() / events['user_id'].nunique() * 100"
   ]
  },
  {
   "cell_type": "markdown",
   "metadata": {},
   "source": [
    "There are potential are for introdusing bootsers in game:\n",
    "- About 25% of all users performed second action in 10 hours or less after first one. This could be a signal that users are ready to consume content faster, so we can propose them payable instruments to do so\n",
    "- On the other hand, there are about 50% of users, who performed second action 24 or more hours or more after first one. It seems that they are less involved in game procces, there are many possible explanations for that, but one of them is that they didn't find unique content for them, so it could be another opportunity for us to introduce unique content that they consume after paying\n",
    "- Only half percent of users left after first action in game, which is quite good, there is no particular possibilities to work with them and trying to bring them back"
   ]
  },
  {
   "cell_type": "markdown",
   "metadata": {},
   "source": [
    "## Conclusion"
   ]
  },
  {
   "cell_type": "markdown",
   "metadata": {},
   "source": [
    "1) Genreal performance parameters:\n",
    "    - On average, we have 2884 daily active users and they perform 10 actions\n",
    "    - 42% users finished stage 1, by any condition\n",
    "    - Out of this users, 32% passed by building satellite orbital assembly,  rest of users passed by defeating boss\n",
    "    - 0.5% of users left the game after first action\n",
    "    - It takes about 11 and half days to finish stage 1, for average user\n",
    "    - We have 100% day 0 retention, but less that 0.5% day 30 retention. It seems that major decreased is happening between first and second week, when users finish first stage, so they start leaving\n",
    "2) Monetization:\n",
    "    - On average, user see building screen about 9.4 times. Considering number of active daily users and assuming 1% CTR (lower that average) and 0.3 cost per click, we can expect to have about 81 dollars income per day (2884*9.4*0.01*0.3) and about 2439 dollars per month, which is not going to cover our costs to users recruitment\n",
    "    - Based on this, we can propose several additional options of monetization to be considered\n",
    "        - Rewarded ads - we can introduce some pieces of content, non impacting on game progress, like visuals, that will be available only after watching an ad. This could be an addition to the our original strategy thru in-app advertizing \n",
    "        - In-app purchases. There are several possible options, we can offer boosters for those, who spend less that 10 hours between first and second actions, they seem to be involved in game, and in order to achive a goal (finish stage 1) they might be ready to pay. Another option, is group of users who had significant gap between first and second action, more than 24 hours, so maybe by introdusing option to finish level faster by paying they going to be more satisfied with game and stay longer"
   ]
  },
  {
   "cell_type": "markdown",
   "metadata": {},
   "source": [
    "# Part 3. Statistical analysis"
   ]
  },
  {
   "cell_type": "markdown",
   "metadata": {},
   "source": [
    "###  3.1 Test a hypothesis on the difference in completion time between users who finish the stage by building the assembly and those who do so by beating the boss."
   ]
  },
  {
   "cell_type": "markdown",
   "metadata": {},
   "source": [
    "First, we going to chech if completion time is distributed normaly by applying Shapiro-Wilk test:\n",
    "   - H0: completion time is distributed normaly\n",
    "   - H1: Distribution of completion time parameter is not normal\n",
    "   - alpha level: 0.05"
   ]
  },
  {
   "cell_type": "code",
   "execution_count": 55,
   "metadata": {},
   "outputs": [
    {
     "name": "stdout",
     "output_type": "stream",
     "text": [
      "p-value:  3.318088250613154e-26\n",
      "Null hypothesis rejected: the distribution is not normal\n"
     ]
    }
   ],
   "source": [
    "completion_time = events[['user_id', 'event','first_action','date']]\n",
    "completion_time = completion_time[completion_time['event'] =='finished_stage_1']\n",
    "completion_time['completion_time'] = (completion_time['date'] - completion_time['first_action']) / np.timedelta64(1, 'h')\n",
    "ALPHA = 0.05\n",
    "results = st.shapiro(completion_time['completion_time'])\n",
    "p_value = results[1]\n",
    "print('p-value: ', p_value)\n",
    "if (p_value < ALPHA): \n",
    "    print(\"Null hypothesis rejected: the distribution is not normal\")\n",
    "else:\n",
    "    print(\"Failed to reject the null hypothesis: the distribution seems to be normal\")"
   ]
  },
  {
   "cell_type": "markdown",
   "metadata": {},
   "source": [
    "So, due to fact that distribution of completion time is not normal we going to perform a Mann-Whitney statistical test based on following assumptions:\n",
    " - H0: There is no difference in completion time between users who finished by defeating the boss and those who build the assembly\n",
    " - H1: There is statistical difference in completion time between those two groups\n",
    " - alpha: 0.05, since its a regual statistical test, we don't need higher level of precision"
   ]
  },
  {
   "cell_type": "code",
   "execution_count": 56,
   "metadata": {},
   "outputs": [
    {
     "name": "stdout",
     "output_type": "stream",
     "text": [
      "p-value:  2.3933051792268363e-105\n",
      "Null hypothesis rejected: the difference is statistically significant\n"
     ]
    }
   ],
   "source": [
    "completed_by_building = completion_time[completion_time['user_id'].isin(users_build_satelite)]['completion_time']\n",
    "completed_by_defeating_boss = completion_time[~completion_time['user_id'].isin(users_build_satelite)]['completion_time']\n",
    "results = st.mannwhitneyu(completed_by_building, completed_by_defeating_boss)\n",
    "print('p-value: ', results.pvalue)\n",
    "if (results.pvalue < ALPHA):\n",
    "    print(\"Null hypothesis rejected: the difference is statistically significant\")\n",
    "else:\n",
    "    print(\"Failed to reject the null hypothesis: we can't make conclusions about the difference\") "
   ]
  },
  {
   "cell_type": "code",
   "execution_count": 57,
   "metadata": {},
   "outputs": [
    {
     "name": "stdout",
     "output_type": "stream",
     "text": [
      "321.5176848874598 265.4031890660592\n"
     ]
    }
   ],
   "source": [
    "print(completed_by_building.mean(), completed_by_defeating_boss.mean())"
   ]
  },
  {
   "cell_type": "markdown",
   "metadata": {},
   "source": [
    "Based on results of statistical test, we can say that there is a statistical difference in completion time between users who finish the stage by building the assembly and those who do so by beating the boss. On average, building assembly is taking significanlty longer than defeating boss"
   ]
  },
  {
   "cell_type": "markdown",
   "metadata": {},
   "source": [
    "### 3.2 Test a hypothesis on the difference in completion time between users, who were acquired from different channels"
   ]
  },
  {
   "cell_type": "markdown",
   "metadata": {},
   "source": [
    "From previous test we know that completion time is distributed not normaly, so there is no need to run a test again, so we going to test following hypothesis and perform Kruskal test:\n",
    "   - H0: There is no significant differences in completion time for users that joined from different sources \n",
    "   - H1: Users who were acquired from different channels have differences in completion time\n",
    "   - alpha: 0.05"
   ]
  },
  {
   "cell_type": "code",
   "execution_count": 58,
   "metadata": {},
   "outputs": [
    {
     "name": "stdout",
     "output_type": "stream",
     "text": [
      "p-value:  0.7508827405244661\n",
      "Failed to reject the null hypothesis: we can't make conclusions about the difference\n"
     ]
    }
   ],
   "source": [
    "completion_time_by_source = events[['user_id', 'event','first_action','date','source']]\n",
    "completion_time_by_source = completion_time_by_source[completion_time_by_source['event'] =='finished_stage_1']\n",
    "completion_time_by_source['completion_time'] = (completion_time_by_source['date'] - completion_time_by_source['first_action']) / np.timedelta64(1, 'h')\n",
    "\n",
    "#st.f_oneway()\n",
    "results = st.kruskal(completion_time_by_source['completion_time'][completion_time_by_source['source']=='instagram_new_adverts'],\n",
    "              completion_time_by_source['completion_time'][completion_time_by_source['source']=='facebook_ads'],\n",
    "              completion_time_by_source['completion_time'][completion_time_by_source['source']=='youtube_channel_network'],\n",
    "              completion_time_by_source['completion_time'][completion_time_by_source['source']=='google_play_ads'])\n",
    "print('p-value: ', results.pvalue)\n",
    "if (results.pvalue < ALPHA):\n",
    "    print(\"Null hypothesis rejected: the difference is statistically significant\")\n",
    "else:\n",
    "    print(\"Failed to reject the null hypothesis: we can't make conclusions about the difference\") "
   ]
  },
  {
   "cell_type": "markdown",
   "metadata": {},
   "source": [
    "Based on results of statistical test we can say that there is no difference in users that coming from different sources in terms of time to complete stage 1. This could tell us, that our game have same complexity curve and its working for all users. Since we don't have any boosters, we can expect that users will spend same amount of time to complete levels"
   ]
  },
  {
   "cell_type": "markdown",
   "metadata": {},
   "source": [
    "### 3.3 Test a hypothesis on the difference in day 7 retention rate between users from different chanels"
   ]
  },
  {
   "cell_type": "markdown",
   "metadata": {},
   "source": [
    "We are going to compare day 7 retention rate for 4 groups of users, that where acquired thru different channels. We are going to run a proportions test for each possible pair of chanel with following hypothesis:\n",
    "    - H0: There is no differnce between users that came from different sources in terms of day 7 retention rate\n",
    "    - H1: Users that where acquired from different sources have different level of day 7 retention rate\n",
    "    - alpha: 0.05"
   ]
  },
  {
   "cell_type": "code",
   "execution_count": 59,
   "metadata": {},
   "outputs": [],
   "source": [
    "conv_by_source = events.groupby(['source','lifetime'])['user_id'].nunique().reset_index()\n",
    "conv_by_source = conv_by_source[(conv_by_source['lifetime'] == 0) |(conv_by_source['lifetime'] == 7)]"
   ]
  },
  {
   "cell_type": "code",
   "execution_count": 60,
   "metadata": {},
   "outputs": [
    {
     "data": {
      "text/html": [
       "<div>\n",
       "<style scoped>\n",
       "    .dataframe tbody tr th:only-of-type {\n",
       "        vertical-align: middle;\n",
       "    }\n",
       "\n",
       "    .dataframe tbody tr th {\n",
       "        vertical-align: top;\n",
       "    }\n",
       "\n",
       "    .dataframe thead th {\n",
       "        text-align: right;\n",
       "    }\n",
       "</style>\n",
       "<table border=\"1\" class=\"dataframe\">\n",
       "  <thead>\n",
       "    <tr style=\"text-align: right;\">\n",
       "      <th></th>\n",
       "      <th>source</th>\n",
       "      <th>total_amount</th>\n",
       "      <th>day7_amount</th>\n",
       "      <th>proportion</th>\n",
       "    </tr>\n",
       "  </thead>\n",
       "  <tbody>\n",
       "    <tr>\n",
       "      <td>0</td>\n",
       "      <td>facebook_ads</td>\n",
       "      <td>2726</td>\n",
       "      <td>1219</td>\n",
       "      <td>0.447175</td>\n",
       "    </tr>\n",
       "    <tr>\n",
       "      <td>1</td>\n",
       "      <td>google_play_ads</td>\n",
       "      <td>4817</td>\n",
       "      <td>2152</td>\n",
       "      <td>0.446751</td>\n",
       "    </tr>\n",
       "    <tr>\n",
       "      <td>2</td>\n",
       "      <td>instagram_new_adverts</td>\n",
       "      <td>3347</td>\n",
       "      <td>1481</td>\n",
       "      <td>0.442486</td>\n",
       "    </tr>\n",
       "    <tr>\n",
       "      <td>3</td>\n",
       "      <td>youtube_channel_network</td>\n",
       "      <td>2686</td>\n",
       "      <td>1155</td>\n",
       "      <td>0.430007</td>\n",
       "    </tr>\n",
       "  </tbody>\n",
       "</table>\n",
       "</div>"
      ],
      "text/plain": [
       "                    source  total_amount  day7_amount  proportion\n",
       "0  facebook_ads             2726          1219         0.447175  \n",
       "1  google_play_ads          4817          2152         0.446751  \n",
       "2  instagram_new_adverts    3347          1481         0.442486  \n",
       "3  youtube_channel_network  2686          1155         0.430007  "
      ]
     },
     "execution_count": 60,
     "metadata": {},
     "output_type": "execute_result"
    }
   ],
   "source": [
    "conv_by_source_original = conv_by_source[conv_by_source['lifetime'] == 0].drop('lifetime', axis=1)\n",
    "conv_by_source_original.columns = ['source','total_amount']\n",
    "conv_by_source_7_day = conv_by_source[conv_by_source['lifetime'] == 7].drop('lifetime', axis=1)\n",
    "conv_by_source_7_day.columns = ['source','day7_amount']\n",
    "conv_by_source = pd.merge(conv_by_source_original,conv_by_source_7_day, on = 'source')\n",
    "conv_by_source['proportion'] = conv_by_source['day7_amount'] / conv_by_source['total_amount']\n",
    "conv_by_source"
   ]
  },
  {
   "cell_type": "code",
   "execution_count": 61,
   "metadata": {},
   "outputs": [
    {
     "data": {
      "text/html": [
       "<div>\n",
       "<style scoped>\n",
       "    .dataframe tbody tr th:only-of-type {\n",
       "        vertical-align: middle;\n",
       "    }\n",
       "\n",
       "    .dataframe tbody tr th {\n",
       "        vertical-align: top;\n",
       "    }\n",
       "\n",
       "    .dataframe thead th {\n",
       "        text-align: right;\n",
       "    }\n",
       "</style>\n",
       "<table border=\"1\" class=\"dataframe\">\n",
       "  <thead>\n",
       "    <tr style=\"text-align: right;\">\n",
       "      <th></th>\n",
       "      <th>source</th>\n",
       "      <th>total_amount</th>\n",
       "      <th>day7_amount</th>\n",
       "      <th>proportion</th>\n",
       "    </tr>\n",
       "  </thead>\n",
       "  <tbody>\n",
       "    <tr>\n",
       "      <td>0</td>\n",
       "      <td>facebook_ads</td>\n",
       "      <td>2726</td>\n",
       "      <td>1219</td>\n",
       "      <td>0.447175</td>\n",
       "    </tr>\n",
       "    <tr>\n",
       "      <td>1</td>\n",
       "      <td>google_play_ads</td>\n",
       "      <td>4817</td>\n",
       "      <td>2152</td>\n",
       "      <td>0.446751</td>\n",
       "    </tr>\n",
       "    <tr>\n",
       "      <td>2</td>\n",
       "      <td>instagram_new_adverts</td>\n",
       "      <td>3347</td>\n",
       "      <td>1481</td>\n",
       "      <td>0.442486</td>\n",
       "    </tr>\n",
       "    <tr>\n",
       "      <td>3</td>\n",
       "      <td>youtube_channel_network</td>\n",
       "      <td>2686</td>\n",
       "      <td>1155</td>\n",
       "      <td>0.430007</td>\n",
       "    </tr>\n",
       "  </tbody>\n",
       "</table>\n",
       "</div>"
      ],
      "text/plain": [
       "                    source  total_amount  day7_amount  proportion\n",
       "0  facebook_ads             2726          1219         0.447175  \n",
       "1  google_play_ads          4817          2152         0.446751  \n",
       "2  instagram_new_adverts    3347          1481         0.442486  \n",
       "3  youtube_channel_network  2686          1155         0.430007  "
      ]
     },
     "execution_count": 61,
     "metadata": {},
     "output_type": "execute_result"
    }
   ],
   "source": [
    "conv_by_source"
   ]
  },
  {
   "cell_type": "code",
   "execution_count": 62,
   "metadata": {},
   "outputs": [],
   "source": [
    "def stat_test(group1,group2, alpha=0.05):\n",
    "    s1 = conv_by_source[conv_by_source['source'] == group1]['day7_amount']\n",
    "    s2 = conv_by_source[conv_by_source['source'] == group2]['day7_amount']\n",
    "    n1 = conv_by_source[conv_by_source['source'] == group1]['total_amount']\n",
    "    n2 = conv_by_source[conv_by_source['source'] == group2]['total_amount']\n",
    "    z_value, p_value = proportions_ztest([s1,s2],[n1,n2])\n",
    "    print('P value:',p_value,', Z value:',z_value)\n",
    "    if (p_value < alpha):\n",
    "        print(\"Rejecting the null hypothesis: there is a significant difference between users acquired from {} and from {}\".format(group1,group2))\n",
    "    else:\n",
    "        print(\"Failed to reject the null hypothesis: there is no reason to consider the proportions different between users acquired from {} and from {}\".format(group1,group2))"
   ]
  },
  {
   "cell_type": "code",
   "execution_count": 63,
   "metadata": {},
   "outputs": [
    {
     "name": "stdout",
     "output_type": "stream",
     "text": [
      "P value: [0.97159788] , Z value: [0.0356043]\n",
      "Failed to reject the null hypothesis: there is no reason to consider the proportions different between users acquired from facebook_ads and from google_play_ads\n",
      "P value: [0.71452127] , Z value: [0.36579069]\n",
      "Failed to reject the null hypothesis: there is no reason to consider the proportions different between users acquired from facebook_ads and from instagram_new_adverts\n",
      "P value: [0.20317469] , Z value: [1.27255869]\n",
      "Failed to reject the null hypothesis: there is no reason to consider the proportions different between users acquired from facebook_ads and from youtube_channel_network\n",
      "P value: [0.70290322] , Z value: [0.38140437]\n",
      "Failed to reject the null hypothesis: there is no reason to consider the proportions different between users acquired from google_play_ads and from instagram_new_adverts\n",
      "P value: [0.16137249] , Z value: [1.40047042]\n",
      "Failed to reject the null hypothesis: there is no reason to consider the proportions different between users acquired from google_play_ads and from youtube_channel_network\n",
      "P value: [0.33147546] , Z value: [0.97114624]\n",
      "Failed to reject the null hypothesis: there is no reason to consider the proportions different between users acquired from instagram_new_adverts and from youtube_channel_network\n"
     ]
    }
   ],
   "source": [
    "for i,z in list(itertools.combinations(conv_by_source['source'].unique(), 2)):\n",
    "      stat_test(i,z)"
   ]
  },
  {
   "cell_type": "markdown",
   "metadata": {},
   "source": [
    "After comparing proportions of day 7 retention between users that joined our game from different sources, we can say that there is no differnce betweem theese users, so we don't need to focus of specific source and keep atracting users from different sources "
   ]
  },
  {
   "cell_type": "markdown",
   "metadata": {},
   "source": [
    "# Conclusion and general recommendations:"
   ]
  },
  {
   "cell_type": "markdown",
   "metadata": {},
   "source": [
    "- We analyzed data about 13576  unique users, that joined game from 04-05-2020 to 10-05-2020 from 4 different sources. 35% from Google play ads, 25% from Instagram ads. and about 20% for Facebook and YouTube channel each\n",
    "- In order to acquire these users we spent 7603 dollars over a week period, in almost equal shares per source, with slightly less expenditures on YouTube\n",
    "- These users performed about 135640 actions is our games, which allowed us to make following conclusions:\n",
    "     - About 43% of users passed stage 1, out of this users 32% passed by building satellite orbital assembly, rest passed by defeating boss\n",
    "     - On average users perform about 10 actions. Users, who passed stage 1 by building satellite do about 15 actions on average. In addition to this, statistical test proved that there is a significant difference in completion time between those, who finish by defeating boss compared to those, who build satellite system. It takes significantly longer for the last group.\n",
    "     - On average we had 2884 daily active users\n",
    "     - Only 0.5% of users left the game after first action\n",
    "     - It takes about 11 and half days to finish stage 1, for average user\n",
    "     - We have 100% day 0 retention, but less that 0.5% day 30 retention. It seems that major decreased is happening between first and second week, when users finish first stage, so they start leaving. We didn't find any significant difference in day 7 conversion between users, that where acquired thru different sources.\n",
    "- There is 2 possible monetization strategies to implemented in game, we can select one or combine them both:\n",
    "    - In-Game Advertising. By introducing this type of monetization we can expect about 81 dollar per day income, considering that users see building screen about 9,4 times with 2884 daily active users, presumably 1% CTR and 0.3 CPC. Which will bring us about 2439 dollars per month, which is not going to cover our costs for users recruitment\n",
    "    - In-Game Purchases. Its hard to evaluate possible income from this options, since we are missing a lot of necessary information (% of conversion, conversion time, LTV), but there are several options that could be implemented: rewarded ads, we can give some unique pieces of content, that don't have impact on game progress, for those who watch ads, like visuals, skins etc.) or boosters. We have 2 potential groups to sell them to - those, who rushed between 1st and 2nd buildind and did it faster than 10 hours (about 25% of users) or those, who spend 24 hours or more to proceed from 1st action to second, this might improve their involvment and performance. \n",
    "- We recommend to introduce new monetization strategies one-by-one followed by A/B test, in order to track performance. If we going to focus on in-app advertisment as monetization strategy, so we should choose retention as main KPI, because as longer user stay in app more value he generates. If we going to introduce in-app puchases, then conversion should be our main KPI.\n"
   ]
  },
  {
   "cell_type": "markdown",
   "metadata": {},
   "source": [
    "### Documentation:\n",
    " - 1. https://sweetpricing.com/blog/2016/06/free-to-play-monetization/ - review of most common monetization strategies for free-to-play games. I took basic ideas of what strategies we can use in our game\n",
    " - 2. https://www.wordstream.com/average-ctr#:~:text=The%20average%20click%2Dthrough%20rate%20on%20AdWords%20paid%20search%20ads,considered%20an%20above%20average%20CTR\n",
    " Information on CTR, average CTR in Adwords across all industries is 1.91%. Infographic that we can use as reference to evaluate our CTR, if we going to introduce in-game ads.\n",
    " - 3. https://admob.google.com/home/resources/rewarded-ads-win-for-everyone/ - another article on monetization strategy and its advantages. Becoming more and more popular according to Google Ads Data\n",
    " - 4. https://www.devtodev.com/education/articles/en/84/25-key-metrics-to-track-user-loyalty - rather short summary on basic metrics that we need to track and calculate in order to evaluate performance of our game and quality of users. Helped with retention calculation\n",
    " - 5. https://www.deconstructoroffun.com/blog/2017/9/13/how-monetize-using-behavioural-economics another acticle on monetization strategies from behavioural point of view, with examples from market leaders. \n",
    " - 6. https://docs.scipy.org/doc/scipy/reference/generated/scipy.stats.kruskal.html Since completion time is not normaly distributed we needed Anova non-parametric analog to test hypothesis about difference in completion time between groups of users, that where acquired from different sources."
   ]
  }
 ],
 "metadata": {
  "kernelspec": {
   "display_name": "Python 3",
   "language": "python",
   "name": "python3"
  },
  "language_info": {
   "codemirror_mode": {
    "name": "ipython",
    "version": 3
   },
   "file_extension": ".py",
   "mimetype": "text/x-python",
   "name": "python",
   "nbconvert_exporter": "python",
   "pygments_lexer": "ipython3",
   "version": "3.7.3"
  },
  "toc": {
   "base_numbering": 1,
   "nav_menu": {},
   "number_sections": false,
   "sideBar": true,
   "skip_h1_title": false,
   "title_cell": "Table of Contents",
   "title_sidebar": "Contents",
   "toc_cell": false,
   "toc_position": {
    "height": "calc(100% - 180px)",
    "left": "10px",
    "top": "150px",
    "width": "255.594px"
   },
   "toc_section_display": true,
   "toc_window_display": false
  }
 },
 "nbformat": 4,
 "nbformat_minor": 2
}
